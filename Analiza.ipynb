{
 "cells": [
  {
   "cell_type": "code",
   "execution_count": 18,
   "metadata": {
    "collapsed": true
   },
   "outputs": [],
   "source": [
    "import pandas as pd\n",
    "from typing import List, Any, NamedTuple\n",
    "import datetime\n",
    "import re"
   ]
  },
  {
   "cell_type": "code",
   "execution_count": 105,
   "outputs": [
    {
     "name": "stdout",
     "output_type": "stream",
     "text": [
      "1907\n"
     ]
    }
   ],
   "source": [
    "plik1 = r\"LINK_DO_PLIKU\"\n",
    "from bs4 import BeautifulSoup\n",
    "with open(plik1, \"r\", encoding='utf-8') as f:\n",
    "    soup = BeautifulSoup(f)\n",
    "    lista1 = soup.findAll('div', attrs={'class':'pam _3-95 _2pi0 _2lej uiBoxWhite noborder'})\n",
    "    print(len(lista1))"
   ],
   "metadata": {
    "collapsed": false,
    "pycharm": {
     "name": "#%%\n"
    }
   }
  },
  {
   "cell_type": "code",
   "execution_count": 107,
   "outputs": [],
   "source": [
    "calosc = lista1[1: ]"
   ],
   "metadata": {
    "collapsed": false,
    "pycharm": {
     "name": "#%%\n"
    }
   }
  },
  {
   "cell_type": "code",
   "execution_count": 69,
   "outputs": [],
   "source": [
    "class Message(NamedTuple):\n",
    "    date_time: datetime.datetime\n",
    "    message: str\n",
    "    author: str\n",
    "    reactions: str\n",
    "\n",
    "    def __repr__(self):\n",
    "        return f\"Author: {self.author}\\n\" \\\n",
    "               f\"Message: {self.message}\\n\" \\\n",
    "               f\"Reactions: {self.reactions}\\n\" \\\n",
    "               f\"Date: {self.date_time}\""
   ],
   "metadata": {
    "collapsed": false,
    "pycharm": {
     "name": "#%%\n"
    }
   }
  },
  {
   "cell_type": "code",
   "execution_count": 170,
   "outputs": [],
   "source": [
    "class Row:\n",
    "    message: Message\n",
    "    def __init__(self, row):\n",
    "        self.message = self.all_information(row)\n",
    "\n",
    "    def all_information(self, row) -> Message:\n",
    "        date_time = self._get_date(row)\n",
    "        message = self._get_message(row)\n",
    "        author = self._get_author(row)\n",
    "        reactions = self._get_reactions(row)\n",
    "        return Message(date_time=date_time,\n",
    "                       message=message,\n",
    "                       author=author,\n",
    "                       reactions=reactions)\n",
    "\n",
    "    def _get_message(self, row) -> str:\n",
    "        if 'href' in str(row):\n",
    "            return 'IMAGE'\n",
    "        mess_ = row.find('div', attrs={'class':'_3-96 _2let'}).text\n",
    "        mess = ''.join([x\n",
    "                        if x.isidentifier() or x.isascii() else '--'\n",
    "                        for x in mess_]).split('--')[0]\n",
    "        return mess\n",
    "\n",
    "    def _get_author(self, row) -> str:\n",
    "        return row.find('div', attrs={'class':'_3-96 _2pio _2lek _2lel'}).text\n",
    "\n",
    "    def _get_reactions(self, row) -> str:\n",
    "        found = row.find('ul', attrs={'class':'_tqp'})\n",
    "        if found:\n",
    "            return '-'.join([x.text for x in found.findAll('li')])\n",
    "        else:\n",
    "            return ''\n",
    "\n",
    "    def _get_date(self, row) -> datetime.datetime:\n",
    "        week_days = {\"Niedziela\": 0, \"Poniedziałek\":1,\"Wtorek\":2,\"Środa\":3,\"Czwartek\":4,\"Piątek\":5,\"Sobota\":6}\n",
    "        months = {\"cze\":6,\"maj\":5,\"kwi\":4,\"mar\":3,\"lut\":2,\"sty\":1,\"gru\":12,\"lis\":11,\"paź\":10, \"wrz\": 9, \"lip\":7, \"sie\":8}\n",
    "        row_source = row.find('div', attrs={'class':'_3-94 _2lem'}).text\n",
    "        row_source = row_source.replace(',', '')\n",
    "        # 'sty 30, 2021 1:56:19po południu'\n",
    "        date_from = row_source.split(' ')\n",
    "        # ['sty', '30,', '2021', '1:56:19po', 'południu']\n",
    "        pattern = r'\\d+\\:\\d+\\:\\d+'\n",
    "        time = re.findall(pattern, row_source)[0]\n",
    "        # 'sty 30, 2021 1:56:19po południu' || ['1:56:19']\n",
    "        hour = time.split(':')[0]\n",
    "        minute = time.split(':')[1]\n",
    "        if row_source[-1] == 'u':\n",
    "            hour = int(hour)\n",
    "            hour += 12\n",
    "        if hour == 24:\n",
    "            hour = 0\n",
    "        return datetime.datetime(year=int(date_from[2]),\n",
    "                                 month=int(months[date_from[0]]),\n",
    "                                 day=int(date_from[1]),\n",
    "                                 hour=int(hour),\n",
    "                                 minute=int(minute))\n",
    "\n",
    "    def __repr__(self) -> str:\n",
    "        return str(self.message)"
   ],
   "metadata": {
    "collapsed": false,
    "pycharm": {
     "name": "#%%\n"
    }
   }
  },
  {
   "cell_type": "code",
   "execution_count": 176,
   "outputs": [],
   "source": [
    "def create_CSV(name: str) -> None:\n",
    "    try:\n",
    "        df = pd.DataFrame({}, columns=[\"Author\", \"Message\", \"Reactions\", \"Date\"])\n",
    "        for row in calosc:\n",
    "            row_ = Row(row)\n",
    "            df.loc[len(df)] = [row_.message.author] \\\n",
    "                              + [row_.message.message] \\\n",
    "                              + [row_.message.reactions] \\\n",
    "                              + [row_.message.date_time]\n",
    "        df = df.sort_values('Date')\n",
    "        df.to_csv(f'{name}.csv', index=False, encoding='utf-8-sig')\n",
    "        print(\"Saved\")\n",
    "    except Exception:\n",
    "        print(\"[ERROR] Not Saved\")"
   ],
   "metadata": {
    "collapsed": false,
    "pycharm": {
     "name": "#%%\n"
    }
   }
  },
  {
   "cell_type": "code",
   "execution_count": 177,
   "outputs": [
    {
     "name": "stdout",
     "output_type": "stream",
     "text": [
      "Saved\n"
     ]
    }
   ],
   "source": [
    "create_CSV('WszystkoZapisane')"
   ],
   "metadata": {
    "collapsed": false,
    "pycharm": {
     "name": "#%%\n"
    }
   }
  }
 ],
 "metadata": {
  "kernelspec": {
   "display_name": "Python 3",
   "language": "python",
   "name": "python3"
  },
  "language_info": {
   "codemirror_mode": {
    "name": "ipython",
    "version": 2
   },
   "file_extension": ".py",
   "mimetype": "text/x-python",
   "name": "python",
   "nbconvert_exporter": "python",
   "pygments_lexer": "ipython2",
   "version": "2.7.6"
  }
 },
 "nbformat": 4,
 "nbformat_minor": 0
}